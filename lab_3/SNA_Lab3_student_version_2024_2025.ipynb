{
  "cells": [
    {
      "cell_type": "markdown",
      "id": "1f35580e",
      "metadata": {
        "id": "1f35580e"
      },
      "source": [
        "<html><font size=6><B>3η εργαστηριακή άσκηση</B><BR>\n",
        "    <BR><B>Link prediction - Πρόβλεψη συνδέσμων</B></BR>\n",
        "    </font></html>"
      ]
    },
    {
      "cell_type": "code",
      "source": [
        "import pandas as pd\n",
        "import networkx as nx\n",
        "import numpy as np"
      ],
      "metadata": {
        "id": "mRdOwz3HudaJ"
      },
      "id": "mRdOwz3HudaJ",
      "execution_count": 1,
      "outputs": []
    },
    {
      "cell_type": "markdown",
      "id": "b30af479",
      "metadata": {
        "id": "b30af479"
      },
      "source": [
        "<html><font size=4><B>1. Κατασκευή γράφου και υπολογισμός μετρικών</B></font>\n",
        "    <li><B>1(i).</B> Χρησιμοποιήστε το dataset <a href=\"http://konect.cc/networks/maayan-pdzbase/\"> KONECT (PDZBase) </a>, για να κατασκευάσετε τον μη κατευθυνόμενο (undirected) γράφο $G$. Οι κόμβοι του γράφου αναπαριστούν πρωτεΐνες και οι ακμές την αλληλεπίδραση αυτών. Στην σελίδα <a href=\"http://konect.cc/networks/maayan-pdzbase/\"> KONECT (PDZBase)</a> μπορείτε να βρείτε πληροφορίες για τις ιδιότητες του γράφου.</a><BR>\n",
        "        <B><U>Υπόδειξη:</U></B> Μπορείτε να ελέγξετε προγραμματιστικά αν το dataset περιέχει διπλότυπα των ακμών με την ίδια ή αντίστροφη σειρά (π.χ. ακμές (a,b) και (b,a)), και να λάβετε υπ' όψιν σας αυτήν σας την παρατήρηση, όπου τυχόν χρειαστεί.<BR></html>"
      ]
    },
    {
      "cell_type": "code",
      "source": [
        "datafile = \"out.maayan-pdzbase\"\n",
        "df = pd.read_csv(datafile, sep='\\t', header=None, names=['source', 'target'])\n",
        "\n",
        "df = df[df['source'] != df['target']] # Αφαίρεση self-loops\n",
        "\n",
        "df['source'], df['target'] = (\n",
        "    df[['source', 'target']].min(axis=1), # Ο μικρότερος κόμβος γίνεται \"source\"\n",
        "    df[['source', 'target']].max(axis=1)  # Ο μεγαλύτερος κόμβος γίνεται \"target\"\n",
        ")\n",
        "\n",
        "df = df.drop_duplicates()  # Αφαίρεση διπλότυπων ακμών\n",
        "\n",
        "G = nx.from_pandas_edgelist(df, source='source', target='target') # Μετατροπή σε γράφο"
      ],
      "metadata": {
        "id": "nGlEl0pDyo74"
      },
      "id": "nGlEl0pDyo74",
      "execution_count": 3,
      "outputs": []
    },
    {
      "cell_type": "markdown",
      "id": "4bd79bac",
      "metadata": {
        "id": "4bd79bac"
      },
      "source": [
        " <li><B>1(ii).</B> Εμφανίστε τον αριθμό των κόμβων, τον αριθμό των ακμών, τον μέσο βαθμό των κόμβων και τον αριθμό των συνεκτικών συνιστωσών (connected components) για τον γράφο $G$.</li><BR>"
      ]
    },
    {
      "cell_type": "code",
      "execution_count": 4,
      "id": "9277a4e2",
      "metadata": {
        "colab": {
          "base_uri": "https://localhost:8080/"
        },
        "id": "9277a4e2",
        "outputId": "34b8ef3c-cc6a-42c6-c562-2bca465b8cf0"
      },
      "outputs": [
        {
          "output_type": "stream",
          "name": "stdout",
          "text": [
            "Initial node count: 212\n",
            "Initial number of edges: 242\n",
            "Average node degree: 2.2830188679245285\n",
            "Initial number of connected components: 19\n"
          ]
        }
      ],
      "source": [
        "initial_node_count=len(G.nodes())\n",
        "initial_edges = len(G.edges())\n",
        "avg_degree = np.mean([G.degree(node) for node in G.nodes()])\n",
        "initial_connected_components= nx.number_connected_components(G)\n",
        "\n",
        "print(f\"Initial node count: {initial_node_count}\")\n",
        "print(f\"Initial number of edges: {initial_edges}\")\n",
        "print(f\"Average node degree: {avg_degree}\")\n",
        "print(f\"Initial number of connected components: {initial_connected_components}\")"
      ]
    },
    {
      "cell_type": "markdown",
      "id": "bf03f6b9",
      "metadata": {
        "id": "bf03f6b9"
      },
      "source": [
        "<li><B>2 Προεργασία για την πρόβλεψη συνδέσμων. 2(i). </B>Υπολογίστε το σύνολο των ασύνδετων ζευγών κόμβων (unconnected pairs) στον γράφο χρησιμοποιώντας τον πίνακα γειτνίασης (adjacency matrix). Δώστε επίσης τον αριθμό τους. Λάβετε υπ' όψιν σας ότι ο γράφος είναι μη κατευθυνόμενος και δεν χρειάζεται να διατρέξετε ολόκληρο τον πίνακα γειτνίασης.</li><BR>"
      ]
    },
    {
      "cell_type": "code",
      "source": [
        "# Υπολογισμός πίνακα γειτνίασης\n",
        "adj_matrix = nx.to_numpy_array(G)\n",
        "n = len(adj_matrix)\n",
        "\n",
        "# Εύρεση ασύνδετων ζευγών\n",
        "unconnected_pairs = []\n",
        "for i in range(n):\n",
        "  for j in range(i+1, n):\n",
        "    if adj_matrix[i, j] == 0:\n",
        "      unconnected_pairs.append((i+1, j+1)) # Η αρίθμηση κόμβων ξεκινάει από 1\n",
        "\n",
        "# Υπολογισμός αριθμού ασύνδετων ζευγών\n",
        "num_unconnected_pairs = len(unconnected_pairs)\n",
        "print(f\"Number of unconnected pairs: {num_unconnected_pairs}\")"
      ],
      "metadata": {
        "colab": {
          "base_uri": "https://localhost:8080/"
        },
        "id": "bGUGfsmn25z5",
        "outputId": "d025a051-472a-4258-dbe3-8aaf0ee8b70f"
      },
      "id": "bGUGfsmn25z5",
      "execution_count": 5,
      "outputs": [
        {
          "output_type": "stream",
          "name": "stdout",
          "text": [
            "Number of unconnected pairs: 22124\n"
          ]
        }
      ]
    },
    {
      "cell_type": "markdown",
      "id": "154c2a8d",
      "metadata": {
        "id": "154c2a8d"
      },
      "source": [
        "<li><B>2(ii).</B> Υπολογίστε το σύνολο των ακμών (removable edges) που μπορούν να αφαιρεθούν από τον γράφο χωρίς να υπάρχει κατάτμηση (splitting) του γράφου (δηλ. ο αριθμός των συνεκτικών συνιστωσών θα πρέπει να παραμένει αμετάβλητος). Υπόδειξη: Ελέγχετε επίσης ότι με αφαίρεση ακμής δεν μειώνεται ο αριθμός των κόμβων (εφόσον δεν υπάρχει ξεχωριστό αρχείο μόνο με κόμβους στο dataset). Δώστε επίσης τον αριθμό των ακμών (removable edges) που μπορούν να αφαιρεθούν υπό αυτές τις προϋποθέσεις.</li><BR>"
      ]
    },
    {
      "cell_type": "code",
      "execution_count": 6,
      "id": "b39c2241",
      "metadata": {
        "id": "b39c2241",
        "colab": {
          "base_uri": "https://localhost:8080/"
        },
        "outputId": "805ad6d6-13ad-4642-c210-b3485e0835da"
      },
      "outputs": [
        {
          "output_type": "stream",
          "name": "stdout",
          "text": [
            "Number of removable edges: 49\n"
          ]
        }
      ],
      "source": [
        "removable_edges = []\n",
        "\n",
        "# Έλεγχος κάθε ακμής\n",
        "G_temp = G.copy()  # Δημιουργούμε ένα προσωρινό γράφο\n",
        "\n",
        "for edge in list(G.edges()):\n",
        "    G_temp.remove_edge(*edge)  # Αφαιρούμε την ακμή\n",
        "\n",
        "    # Ελέγχουμε τις προϋποθέσεις\n",
        "    if (\n",
        "        nx.number_connected_components(G_temp) == initial_connected_components and\n",
        "        G_temp.number_of_nodes() == initial_node_count\n",
        "    ):\n",
        "        removable_edges.append(edge)  # Αποθηκεύουμε την ακμή αν πληροί τις συνθήκες\n",
        "    else:\n",
        "        G_temp.add_edge(*edge) # Την ξαναπροσθέτουμε\n",
        "\n",
        "# Αριθμός removable edges\n",
        "num_removable_edges = len(removable_edges)\n",
        "\n",
        "print(f\"Number of removable edges: {num_removable_edges}\")"
      ]
    },
    {
      "cell_type": "markdown",
      "id": "eb03d745",
      "metadata": {
        "id": "eb03d745"
      },
      "source": [
        "<li><B>2(iii).</B> Κατασκευάστε dataframe που συνενώνει τις απαντήσεις των ερωτημάτων 2(i) και 2(ii) (unconnected+removables). Χρησιμοποιήστε την μεταβλητή $link$ που θα παίρνει τιμή 1 ή 0 ανάλογα με την ύπαρξη συνδέσμου ή μη. To dataframe αυτό συγκεντρώνει τα θετικά και αρνητικά δείγματα για την πρόβλεψη των μελλοντικών συνδέσεων (link: target variable). <BR>\n",
        "    <li><B>2(iv).</B> Κατασκευάστε τον γράφο $G'$ που προκύπτει από την αφαίρεση από τον γράφο $G$ των ακμών του ερωτήματος 2(ii). <BR>\n",
        "    <li><B>2(v).</B> Εμφανίστε τον αριθμό των κόμβων, τον αριθμό των ακμών, τον μέσο βαθμό των κόμβων και τον αριθμό των συνεκτικών συνιστωσών (connected components) για τον γράφο $G'$.</li><BR>"
      ]
    },
    {
      "cell_type": "code",
      "execution_count": 12,
      "id": "cb033fc0",
      "metadata": {
        "id": "cb033fc0",
        "colab": {
          "base_uri": "https://localhost:8080/"
        },
        "outputId": "9112e87a-e63c-44e7-b18f-06fdd712c93f"
      },
      "outputs": [
        {
          "output_type": "stream",
          "name": "stdout",
          "text": [
            "Number of nodes: 212\n",
            "Number of edges: 193\n",
            "Average degree: 1.820754716981132\n",
            "Number of connected components: 19\n"
          ]
        }
      ],
      "source": [
        "#dataframe of removable edges (they will function as positive samples)\n",
        "removable_edges_df = pd.DataFrame(removable_edges, columns=['source', 'target'])\n",
        "removable_edges_df['link'] = 1\n",
        "\n",
        "#dataframe of unconnected node pairs (they will function as negative samples)\n",
        "unconnected_pairs_df = pd.DataFrame(unconnected_pairs, columns=['source', 'target'])\n",
        "unconnected_pairs_df['link'] = 0\n",
        "\n",
        "#merge in one dataframe\n",
        "combined_df = pd.concat([removable_edges_df, unconnected_pairs_df], ignore_index=True)\n",
        "\n",
        "#build graph G'=G_reduced\n",
        "G_reduced = G.copy()\n",
        "G_reduced.remove_edges_from(removable_edges)\n",
        "\n",
        "num_nodes = len(G_reduced.nodes())\n",
        "num_edges = len(G_reduced.edges)\n",
        "avg_degree = np.mean([G_reduced.degree(node) for node in G_reduced.nodes()])\n",
        "num_components = nx.number_connected_components(G_reduced)\n",
        "\n",
        "print(f\"Number of nodes: {num_nodes}\")\n",
        "print(f\"Number of edges: {num_edges}\")\n",
        "print(f\"Average degree: {avg_degree}\")\n",
        "print(f\"Number of connected components: {num_components}\")\n"
      ]
    },
    {
      "cell_type": "markdown",
      "id": "f4c43988",
      "metadata": {
        "id": "f4c43988"
      },
      "source": [
        "<html><font size=4><B>3. Πρόβλεψη συνδέσμων με embedding βασισμένο σε τυχαίους περιπάτους (Random Walks) </B></font><BR><BR>\n",
        "    <li><B>3(i).</B> Εξάγετε τα χαρακτηριστικά (features) του γράφου $G'$, που προέκυψε από την αφαίρεση των ακμών. Για τον σκοπό αυτό χρησιμοποιήστε τον αλγόριθμο <B>Node2vec</B>. Ο αλγόριθμος αντιστοιχίζει τους κόμβους του γράφου μέσω τυχαίων περιπάτων (biased 2nd order random walks) σε ένα χώρο μικρού αριθμού διαστάσεων (low dimensional space) διατηρώντας την μεταξύ τους γειτνίαση.\n",
        "        <BR>Για την επιλογή των παραμέτρων:\n",
        "            <li>p - παράμετρος τυχαίων περιπάτων p που καθορίζει την πιθανότητα “1/p” επιστροφής στον κόμβο προέλευσης (source node), </li>\n",
        "                <li>q - παράμετρος τυχαίων περιπάτων q που καθορίζει την πιθανότητα  “1/q” μετακίνησης σε κόμβο μακριά από τον κόμβο προέλευσης (source node), </li>\n",
        "                 <li>dimensions - πλήθος διαστάσεων των Node2Vec embeddings, </li>\n",
        "                     <li>num_walks - αριθμός περιπάτων από κάθε κόμβο, </li>\n",
        "                         <li>walk_length - μήκος τυχαίου περιπάτου, </li>\n",
        "                             <li>window_size - μέγεθος παραθύρου context για τον αλγόριθμο Word2Vec, </li><li>num_iter - αριθμός SGD επαναλήψεων (epochs), </li>\n",
        "            <li>workers - αριθμός workers για τον Word2Vec,</li>\n",
        "            χρησιμοποιήστε τις τιμές:   </html>\n",
        "   \n",
        "                   "
      ]
    },
    {
      "cell_type": "markdown",
      "id": "fdbc5274",
      "metadata": {
        "id": "fdbc5274"
      },
      "source": [
        " |   p   |   q   | dimensions|  num_walks  |walk_length |window_size|        workers            |\n",
        " |-------|-------|-----------|-------------|------------|-----------|---------------------------|\n",
        " |  1.0  |  1.0  |  128      |     10      |    80      |     10    |multiprocessing.cpu_count()|"
      ]
    },
    {
      "cell_type": "code",
      "source": [
        "!pip install node2vec"
      ],
      "metadata": {
        "colab": {
          "base_uri": "https://localhost:8080/"
        },
        "id": "KyjX4zFUX5Vw",
        "outputId": "8cf5fcdc-ff45-4ff7-bfe0-082f5f0b90e3"
      },
      "id": "KyjX4zFUX5Vw",
      "execution_count": 13,
      "outputs": [
        {
          "output_type": "stream",
          "name": "stdout",
          "text": [
            "Collecting node2vec\n",
            "  Downloading node2vec-0.5.0-py3-none-any.whl.metadata (849 bytes)\n",
            "Requirement already satisfied: gensim<5.0.0,>=4.3.0 in /usr/local/lib/python3.10/dist-packages (from node2vec) (4.3.3)\n",
            "Requirement already satisfied: joblib<2.0.0,>=1.4.0 in /usr/local/lib/python3.10/dist-packages (from node2vec) (1.4.2)\n",
            "Requirement already satisfied: networkx<4.0.0,>=3.1.0 in /usr/local/lib/python3.10/dist-packages (from node2vec) (3.4.2)\n",
            "Requirement already satisfied: numpy<2.0.0,>=1.24.0 in /usr/local/lib/python3.10/dist-packages (from node2vec) (1.26.4)\n",
            "Requirement already satisfied: tqdm<5.0.0,>=4.66.1 in /usr/local/lib/python3.10/dist-packages (from node2vec) (4.67.1)\n",
            "Requirement already satisfied: scipy<1.14.0,>=1.7.0 in /usr/local/lib/python3.10/dist-packages (from gensim<5.0.0,>=4.3.0->node2vec) (1.13.1)\n",
            "Requirement already satisfied: smart-open>=1.8.1 in /usr/local/lib/python3.10/dist-packages (from gensim<5.0.0,>=4.3.0->node2vec) (7.1.0)\n",
            "Requirement already satisfied: wrapt in /usr/local/lib/python3.10/dist-packages (from smart-open>=1.8.1->gensim<5.0.0,>=4.3.0->node2vec) (1.17.0)\n",
            "Downloading node2vec-0.5.0-py3-none-any.whl (7.2 kB)\n",
            "Installing collected packages: node2vec\n",
            "Successfully installed node2vec-0.5.0\n"
          ]
        }
      ]
    },
    {
      "cell_type": "code",
      "execution_count": 21,
      "id": "aa8e668d",
      "metadata": {
        "id": "aa8e668d",
        "colab": {
          "base_uri": "https://localhost:8080/",
          "height": 49,
          "referenced_widgets": [
            "d40d046be3624a2d88def1bd1127320a",
            "08dd1818b0274ff98aa697d7ece7145f",
            "87d9b3c215f7418f976eb1d1d86536eb",
            "07b2eb69e1de4316bdb7b0a186e79c9c",
            "8c75d574b8714252b4238c5f0343e539",
            "18ecb136de724eb98f7063a81fa6b32f",
            "1055f428456b4a53b1eab0979c5013e2",
            "407a1139630e49e6b50fab797f919452",
            "98922821a8224ca0a220c9ee2f28e5bf",
            "12e7867babdc47a4819459c33b2db146",
            "a7a4d25f3d7640a4a71af528f1a1ff9c"
          ]
        },
        "outputId": "5a676bc2-29d4-4be7-be89-b07cb27689f5"
      },
      "outputs": [
        {
          "output_type": "display_data",
          "data": {
            "text/plain": [
              "Computing transition probabilities:   0%|          | 0/212 [00:00<?, ?it/s]"
            ],
            "application/vnd.jupyter.widget-view+json": {
              "version_major": 2,
              "version_minor": 0,
              "model_id": "d40d046be3624a2d88def1bd1127320a"
            }
          },
          "metadata": {}
        }
      ],
      "source": [
        "from node2vec import Node2Vec\n",
        "import multiprocessing\n",
        "\n",
        "#generate walks\n",
        "node2vec_walker = Node2Vec(\n",
        "    G_reduced,\n",
        "    dimensions=128,\n",
        "    walk_length=80,\n",
        "    num_walks=10,\n",
        "    p=1.0,\n",
        "    q=1.0,\n",
        "    workers=multiprocessing.cpu_count()\n",
        ")\n",
        "\n",
        "#train node2vec model\n",
        "n2v_model = node2vec_walker.fit(window=10, min_count=1)"
      ]
    },
    {
      "cell_type": "markdown",
      "id": "294f0aab",
      "metadata": {
        "id": "294f0aab"
      },
      "source": [
        "<html><font>\n",
        "    <li><B>3(ii).</B> Εφαρμόστε τον αλγόριθμο Random Forest Classifier, για να προβλέψετε τις συνδέσεις.</li><BR>\n",
        "    <li><B>3(iii).</B> Υπολογίστε την ακρίβεια ($accuracy$) του μοντέλου. </li><BR></font></html>"
      ]
    },
    {
      "cell_type": "code",
      "execution_count": 22,
      "id": "6269b89a",
      "metadata": {
        "id": "6269b89a"
      },
      "outputs": [],
      "source": [
        "#apply trained Node2Vec model on each node pair of the dataframe \"unconnected+removables\"\n",
        "x = [(n2v_model.wv[str(i)]+n2v_model.wv[str(j)]) for i,j in zip(combined_df['source'], combined_df['target'])]"
      ]
    },
    {
      "cell_type": "code",
      "execution_count": 23,
      "id": "b74e7aa7",
      "metadata": {
        "id": "b74e7aa7"
      },
      "outputs": [],
      "source": [
        "from sklearn.model_selection import train_test_split\n",
        "\n",
        "# Στόχος (1-removable_edges ή 0-unconnected_pairs )\n",
        "y = combined_df['link']\n",
        "\n",
        "# Διαχωρισμός δεδομένων σε σύνολα εκπαίδευσης και δοκιμών\n",
        "X_train, X_test, y_train, y_test = train_test_split(x, y, random_state=0)"
      ]
    },
    {
      "cell_type": "code",
      "execution_count": 24,
      "id": "e75cfde7",
      "metadata": {
        "id": "e75cfde7",
        "colab": {
          "base_uri": "https://localhost:8080/"
        },
        "outputId": "c3eeb2ac-d4fd-4ea3-e9ab-6dd02dfeece8"
      },
      "outputs": [
        {
          "output_type": "stream",
          "name": "stdout",
          "text": [
            "Accuracy: 0.9976551226551227\n"
          ]
        }
      ],
      "source": [
        "from sklearn.ensemble import RandomForestClassifier\n",
        "from sklearn.metrics import accuracy_score\n",
        "\n",
        "classifier = RandomForestClassifier(max_depth=2, random_state=0)\n",
        "classifier.fit(X_train, y_train)\n",
        "\n",
        "# Πρόβλεψη στο σύνολο δοκιμών\n",
        "y_pred = classifier.predict(X_test)\n",
        "# Υπολογισμός ακρίβειας\n",
        "accuracy = accuracy_score(y_test, y_pred)\n",
        "print(f\"Accuracy: {accuracy}\")"
      ]
    }
  ],
  "metadata": {
    "kernelspec": {
      "display_name": "Python 3",
      "language": "python",
      "name": "python3"
    },
    "language_info": {
      "codemirror_mode": {
        "name": "ipython",
        "version": 3
      },
      "file_extension": ".py",
      "mimetype": "text/x-python",
      "name": "python",
      "nbconvert_exporter": "python",
      "pygments_lexer": "ipython3",
      "version": "3.8.8"
    },
    "colab": {
      "provenance": []
    },
    "widgets": {
      "application/vnd.jupyter.widget-state+json": {
        "d40d046be3624a2d88def1bd1127320a": {
          "model_module": "@jupyter-widgets/controls",
          "model_name": "HBoxModel",
          "model_module_version": "1.5.0",
          "state": {
            "_dom_classes": [],
            "_model_module": "@jupyter-widgets/controls",
            "_model_module_version": "1.5.0",
            "_model_name": "HBoxModel",
            "_view_count": null,
            "_view_module": "@jupyter-widgets/controls",
            "_view_module_version": "1.5.0",
            "_view_name": "HBoxView",
            "box_style": "",
            "children": [
              "IPY_MODEL_08dd1818b0274ff98aa697d7ece7145f",
              "IPY_MODEL_87d9b3c215f7418f976eb1d1d86536eb",
              "IPY_MODEL_07b2eb69e1de4316bdb7b0a186e79c9c"
            ],
            "layout": "IPY_MODEL_8c75d574b8714252b4238c5f0343e539"
          }
        },
        "08dd1818b0274ff98aa697d7ece7145f": {
          "model_module": "@jupyter-widgets/controls",
          "model_name": "HTMLModel",
          "model_module_version": "1.5.0",
          "state": {
            "_dom_classes": [],
            "_model_module": "@jupyter-widgets/controls",
            "_model_module_version": "1.5.0",
            "_model_name": "HTMLModel",
            "_view_count": null,
            "_view_module": "@jupyter-widgets/controls",
            "_view_module_version": "1.5.0",
            "_view_name": "HTMLView",
            "description": "",
            "description_tooltip": null,
            "layout": "IPY_MODEL_18ecb136de724eb98f7063a81fa6b32f",
            "placeholder": "​",
            "style": "IPY_MODEL_1055f428456b4a53b1eab0979c5013e2",
            "value": "Computing transition probabilities: 100%"
          }
        },
        "87d9b3c215f7418f976eb1d1d86536eb": {
          "model_module": "@jupyter-widgets/controls",
          "model_name": "FloatProgressModel",
          "model_module_version": "1.5.0",
          "state": {
            "_dom_classes": [],
            "_model_module": "@jupyter-widgets/controls",
            "_model_module_version": "1.5.0",
            "_model_name": "FloatProgressModel",
            "_view_count": null,
            "_view_module": "@jupyter-widgets/controls",
            "_view_module_version": "1.5.0",
            "_view_name": "ProgressView",
            "bar_style": "success",
            "description": "",
            "description_tooltip": null,
            "layout": "IPY_MODEL_407a1139630e49e6b50fab797f919452",
            "max": 212,
            "min": 0,
            "orientation": "horizontal",
            "style": "IPY_MODEL_98922821a8224ca0a220c9ee2f28e5bf",
            "value": 212
          }
        },
        "07b2eb69e1de4316bdb7b0a186e79c9c": {
          "model_module": "@jupyter-widgets/controls",
          "model_name": "HTMLModel",
          "model_module_version": "1.5.0",
          "state": {
            "_dom_classes": [],
            "_model_module": "@jupyter-widgets/controls",
            "_model_module_version": "1.5.0",
            "_model_name": "HTMLModel",
            "_view_count": null,
            "_view_module": "@jupyter-widgets/controls",
            "_view_module_version": "1.5.0",
            "_view_name": "HTMLView",
            "description": "",
            "description_tooltip": null,
            "layout": "IPY_MODEL_12e7867babdc47a4819459c33b2db146",
            "placeholder": "​",
            "style": "IPY_MODEL_a7a4d25f3d7640a4a71af528f1a1ff9c",
            "value": " 212/212 [00:00&lt;00:00, 4043.59it/s]"
          }
        },
        "8c75d574b8714252b4238c5f0343e539": {
          "model_module": "@jupyter-widgets/base",
          "model_name": "LayoutModel",
          "model_module_version": "1.2.0",
          "state": {
            "_model_module": "@jupyter-widgets/base",
            "_model_module_version": "1.2.0",
            "_model_name": "LayoutModel",
            "_view_count": null,
            "_view_module": "@jupyter-widgets/base",
            "_view_module_version": "1.2.0",
            "_view_name": "LayoutView",
            "align_content": null,
            "align_items": null,
            "align_self": null,
            "border": null,
            "bottom": null,
            "display": null,
            "flex": null,
            "flex_flow": null,
            "grid_area": null,
            "grid_auto_columns": null,
            "grid_auto_flow": null,
            "grid_auto_rows": null,
            "grid_column": null,
            "grid_gap": null,
            "grid_row": null,
            "grid_template_areas": null,
            "grid_template_columns": null,
            "grid_template_rows": null,
            "height": null,
            "justify_content": null,
            "justify_items": null,
            "left": null,
            "margin": null,
            "max_height": null,
            "max_width": null,
            "min_height": null,
            "min_width": null,
            "object_fit": null,
            "object_position": null,
            "order": null,
            "overflow": null,
            "overflow_x": null,
            "overflow_y": null,
            "padding": null,
            "right": null,
            "top": null,
            "visibility": null,
            "width": null
          }
        },
        "18ecb136de724eb98f7063a81fa6b32f": {
          "model_module": "@jupyter-widgets/base",
          "model_name": "LayoutModel",
          "model_module_version": "1.2.0",
          "state": {
            "_model_module": "@jupyter-widgets/base",
            "_model_module_version": "1.2.0",
            "_model_name": "LayoutModel",
            "_view_count": null,
            "_view_module": "@jupyter-widgets/base",
            "_view_module_version": "1.2.0",
            "_view_name": "LayoutView",
            "align_content": null,
            "align_items": null,
            "align_self": null,
            "border": null,
            "bottom": null,
            "display": null,
            "flex": null,
            "flex_flow": null,
            "grid_area": null,
            "grid_auto_columns": null,
            "grid_auto_flow": null,
            "grid_auto_rows": null,
            "grid_column": null,
            "grid_gap": null,
            "grid_row": null,
            "grid_template_areas": null,
            "grid_template_columns": null,
            "grid_template_rows": null,
            "height": null,
            "justify_content": null,
            "justify_items": null,
            "left": null,
            "margin": null,
            "max_height": null,
            "max_width": null,
            "min_height": null,
            "min_width": null,
            "object_fit": null,
            "object_position": null,
            "order": null,
            "overflow": null,
            "overflow_x": null,
            "overflow_y": null,
            "padding": null,
            "right": null,
            "top": null,
            "visibility": null,
            "width": null
          }
        },
        "1055f428456b4a53b1eab0979c5013e2": {
          "model_module": "@jupyter-widgets/controls",
          "model_name": "DescriptionStyleModel",
          "model_module_version": "1.5.0",
          "state": {
            "_model_module": "@jupyter-widgets/controls",
            "_model_module_version": "1.5.0",
            "_model_name": "DescriptionStyleModel",
            "_view_count": null,
            "_view_module": "@jupyter-widgets/base",
            "_view_module_version": "1.2.0",
            "_view_name": "StyleView",
            "description_width": ""
          }
        },
        "407a1139630e49e6b50fab797f919452": {
          "model_module": "@jupyter-widgets/base",
          "model_name": "LayoutModel",
          "model_module_version": "1.2.0",
          "state": {
            "_model_module": "@jupyter-widgets/base",
            "_model_module_version": "1.2.0",
            "_model_name": "LayoutModel",
            "_view_count": null,
            "_view_module": "@jupyter-widgets/base",
            "_view_module_version": "1.2.0",
            "_view_name": "LayoutView",
            "align_content": null,
            "align_items": null,
            "align_self": null,
            "border": null,
            "bottom": null,
            "display": null,
            "flex": null,
            "flex_flow": null,
            "grid_area": null,
            "grid_auto_columns": null,
            "grid_auto_flow": null,
            "grid_auto_rows": null,
            "grid_column": null,
            "grid_gap": null,
            "grid_row": null,
            "grid_template_areas": null,
            "grid_template_columns": null,
            "grid_template_rows": null,
            "height": null,
            "justify_content": null,
            "justify_items": null,
            "left": null,
            "margin": null,
            "max_height": null,
            "max_width": null,
            "min_height": null,
            "min_width": null,
            "object_fit": null,
            "object_position": null,
            "order": null,
            "overflow": null,
            "overflow_x": null,
            "overflow_y": null,
            "padding": null,
            "right": null,
            "top": null,
            "visibility": null,
            "width": null
          }
        },
        "98922821a8224ca0a220c9ee2f28e5bf": {
          "model_module": "@jupyter-widgets/controls",
          "model_name": "ProgressStyleModel",
          "model_module_version": "1.5.0",
          "state": {
            "_model_module": "@jupyter-widgets/controls",
            "_model_module_version": "1.5.0",
            "_model_name": "ProgressStyleModel",
            "_view_count": null,
            "_view_module": "@jupyter-widgets/base",
            "_view_module_version": "1.2.0",
            "_view_name": "StyleView",
            "bar_color": null,
            "description_width": ""
          }
        },
        "12e7867babdc47a4819459c33b2db146": {
          "model_module": "@jupyter-widgets/base",
          "model_name": "LayoutModel",
          "model_module_version": "1.2.0",
          "state": {
            "_model_module": "@jupyter-widgets/base",
            "_model_module_version": "1.2.0",
            "_model_name": "LayoutModel",
            "_view_count": null,
            "_view_module": "@jupyter-widgets/base",
            "_view_module_version": "1.2.0",
            "_view_name": "LayoutView",
            "align_content": null,
            "align_items": null,
            "align_self": null,
            "border": null,
            "bottom": null,
            "display": null,
            "flex": null,
            "flex_flow": null,
            "grid_area": null,
            "grid_auto_columns": null,
            "grid_auto_flow": null,
            "grid_auto_rows": null,
            "grid_column": null,
            "grid_gap": null,
            "grid_row": null,
            "grid_template_areas": null,
            "grid_template_columns": null,
            "grid_template_rows": null,
            "height": null,
            "justify_content": null,
            "justify_items": null,
            "left": null,
            "margin": null,
            "max_height": null,
            "max_width": null,
            "min_height": null,
            "min_width": null,
            "object_fit": null,
            "object_position": null,
            "order": null,
            "overflow": null,
            "overflow_x": null,
            "overflow_y": null,
            "padding": null,
            "right": null,
            "top": null,
            "visibility": null,
            "width": null
          }
        },
        "a7a4d25f3d7640a4a71af528f1a1ff9c": {
          "model_module": "@jupyter-widgets/controls",
          "model_name": "DescriptionStyleModel",
          "model_module_version": "1.5.0",
          "state": {
            "_model_module": "@jupyter-widgets/controls",
            "_model_module_version": "1.5.0",
            "_model_name": "DescriptionStyleModel",
            "_view_count": null,
            "_view_module": "@jupyter-widgets/base",
            "_view_module_version": "1.2.0",
            "_view_name": "StyleView",
            "description_width": ""
          }
        }
      }
    }
  },
  "nbformat": 4,
  "nbformat_minor": 5
}